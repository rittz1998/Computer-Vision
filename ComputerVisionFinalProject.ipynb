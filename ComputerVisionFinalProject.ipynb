{
  "cells": [
    {
      "cell_type": "markdown",
      "metadata": {
        "id": "uwqSpHvPaVYh"
      },
      "source": [
        "# Setting up Environment"
      ]
    },
    {
      "cell_type": "code",
      "execution_count": null,
      "metadata": {
        "colab": {
          "base_uri": "https://localhost:8080/"
        },
        "id": "Tbhzq2L2aHRX",
        "outputId": "b1c4168a-a71c-447a-8742-5a61bf25d582"
      },
      "outputs": [
        {
          "name": "stdout",
          "output_type": "stream",
          "text": [
            "Python 3.7.13\n"
          ]
        }
      ],
      "source": [
        "!python --version  \n",
        "# latest python version"
      ]
    },
    {
      "cell_type": "code",
      "execution_count": null,
      "metadata": {
        "id": "xcqL2Jb9aK1T"
      },
      "outputs": [],
      "source": [
        "# colab has required packages already ---> skipping\n",
        "!pip install -q -U keras-tuner\n",
        "# install keras which is a software library for artificial neural networks"
      ]
    },
    {
      "cell_type": "markdown",
      "metadata": {
        "id": "BA7G8o4Easi1"
      },
      "source": [
        "# Importing Libraries"
      ]
    },
    {
      "cell_type": "code",
      "execution_count": null,
      "metadata": {
        "colab": {
          "base_uri": "https://localhost:8080/"
        },
        "id": "Ro-y6a8Aw6Do",
        "outputId": "421da1cd-00e3-417a-9677-18ce29342d60"
      },
      "outputs": [
        {
          "name": "stdout",
          "output_type": "stream",
          "text": [
            "Looking in indexes: https://pypi.org/simple, https://us-python.pkg.dev/colab-wheels/public/simple/\n",
            "Requirement already satisfied: pandas in /usr/local/lib/python3.7/dist-packages (1.3.5)\n",
            "Requirement already satisfied: numpy>=1.17.3 in /usr/local/lib/python3.7/dist-packages (from pandas) (1.21.6)\n",
            "Requirement already satisfied: pytz>=2017.3 in /usr/local/lib/python3.7/dist-packages (from pandas) (2022.1)\n",
            "Requirement already satisfied: python-dateutil>=2.7.3 in /usr/local/lib/python3.7/dist-packages (from pandas) (2.8.2)\n",
            "Requirement already satisfied: six>=1.5 in /usr/local/lib/python3.7/dist-packages (from python-dateutil>=2.7.3->pandas) (1.15.0)\n"
          ]
        }
      ],
      "source": [
        "!pip install pandas\n",
        "# python software library for data manipulation and analysis"
      ]
    },
    {
      "cell_type": "code",
      "execution_count": null,
      "metadata": {
        "id": "RjLueUF6aQaR"
      },
      "outputs": [],
      "source": [
        "import tensorflow as tf\n",
        "# import tensorflow an open-source library for machine learning and artificial learning\n",
        "from tensorflow.keras import datasets, layers, models\n",
        "import matplotlib.pyplot as plt\n",
        "# to plot graphs\n",
        "import numpy as np\n",
        "# import numpy for multidimensional arrays and matrices for huge mathematical computations\n",
        "from sklearn.model_selection import train_test_split\n",
        "# to split the training and testing data subsets\n",
        "from tensorflow.keras.utils import to_categorical\n",
        "# it converts a class matrix, vectors(integers) into binary class matrix\n",
        "import keras_tuner as kt\n",
        "# kerastuner is a libraray that helps to pick the optimal hyperparamerters for tensorflow\n",
        "from tensorflow import keras\n",
        "# imports keras: a python interface for artificial neural networks\n",
        "from sklearn.model_selection import KFold\n",
        "# imports kFold: Provides train/test indices to split data in train/test sets"
      ]
    },
    {
      "cell_type": "code",
      "execution_count": null,
      "metadata": {
        "id": "bA9yr-BX4yYX"
      },
      "outputs": [],
      "source": [
        "from sklearn.model_selection import KFold"
      ]
    },
    {
      "cell_type": "markdown",
      "metadata": {
        "id": "uvKwLYL_bEqC"
      },
      "source": [
        "# First View to the data"
      ]
    },
    {
      "cell_type": "code",
      "execution_count": null,
      "metadata": {
        "colab": {
          "base_uri": "https://localhost:8080/"
        },
        "id": "IYXUaB9GawJz",
        "outputId": "9992d532-9450-441f-aad9-78f5ccdc1069"
      },
      "outputs": [
        {
          "name": "stdout",
          "output_type": "stream",
          "text": [
            "Number of original training examples: 60000\n",
            "Number of original test examples: 10000\n"
          ]
        }
      ],
      "source": [
        "# p_= os.path.abspath(\"mnist_data\")\n",
        "(train_images, train_labels), (test_images, test_labels) = tf.keras.datasets.mnist.load_data(path=\"mnist_data\")\n",
        "\n",
        "# Normalize pixel values to be between 0 and 1\n",
        "# get number of original training and testing examples\n",
        "train_images, test_images = train_images / 255.0, test_images / 255.0\n",
        "print(\"Number of original training examples:\", len(train_images))\n",
        "print(\"Number of original test examples:\", len(test_images))"
      ]
    },
    {
      "cell_type": "markdown",
      "metadata": {
        "id": "VGDv21vib6ys"
      },
      "source": [
        "# Sneek peek to data"
      ]
    },
    {
      "cell_type": "code",
      "execution_count": null,
      "metadata": {
        "colab": {
          "base_uri": "https://localhost:8080/"
        },
        "id": "GAtOGmYIbhFT",
        "outputId": "09b6f6de-0e01-4e6b-e6af-c7b86670f021"
      },
      "outputs": [
        {
          "name": "stdout",
          "output_type": "stream",
          "text": [
            "(60000, 28, 28)\n",
            "(60000,)\n"
          ]
        },
        {
          "data": {
            "image/png": "[encoded data removed]",
            "text/plain": [
              "<Figure size 720x720 with 25 Axes>"
            ]
          },
          "metadata": {},
          "output_type": "display_data"
        }
      ],
      "source": [
        "print(train_images.shape)\n",
        "print(train_labels.shape)\n",
        "class_names = list(range(0,10))\n",
        "\n",
        "# plot figure from the range of 0 to 10\n",
        "plt.figure(figsize=(10,10))\n",
        "for i in range(25):\n",
        "    plt.subplot(5,5,i+1)\n",
        "    plt.xticks([])\n",
        "    plt.yticks([])\n",
        "    plt.grid(False)\n",
        "    plt.imshow(train_images[i])\n",
        "    # show training images\n",
        "    # The CIFAR labels happen to be arrays, \n",
        "    # which is why you need the extra index\n",
        "    plt.xlabel(class_names[train_labels[i]])\n",
        "plt.show()"
      ]
    },
    {
      "cell_type": "markdown",
      "metadata": {
        "id": "TDNY4YQNqVIi"
      },
      "source": [
        "# Pre-process the data"
      ]
    },
    {
      "cell_type": "markdown",
      "metadata": {
        "id": "A5fY-Y14q2L2"
      },
      "source": [
        "The current data can be pre-processed as follow-\n",
        " - Reshape the dataset to keep grayscale channel as independent axis ie. 28*28*1\n",
        " - Normalize the pixel value between 0 and 1 by divind the range of pixel value\n",
        " - Encode the output class into one-hot encoding for better convergence"
      ]
    },
    {
      "cell_type": "code",
      "execution_count": null,
      "metadata": {
        "id": "88dPIP4IqBKE"
      },
      "outputs": [],
      "source": [
        "def prep_data():\n",
        "  # prepare the data by processing the data\n",
        "    (train_images, train_labels), (test_images, test_labels) = tf.keras.datasets.mnist.load_data()\n",
        "    # normalize pixel value \n",
        "    train_images, test_images = train_images / 255.0, test_images / 255.0\n",
        "    # reshape to bring 1D as separate dimension\n",
        "    train_images = train_images.reshape((train_images.shape[0], 28, 28, 1))\n",
        "    test_images = test_images.reshape((test_images.shape[0], 28, 28, 1))\n",
        "    # onehot encode target class\n",
        "    train_labels = to_categorical(train_labels)\n",
        "    test_labels = to_categorical(test_labels)\n",
        "    return train_images, train_labels, test_images, test_labels"
      ]
    },
    {
      "cell_type": "markdown",
      "metadata": {
        "id": "OVT-yxU3NuJy"
      },
      "source": [
        "# Splitting Data into Train-Val-Test"
      ]
    },
    {
      "cell_type": "code",
      "execution_count": null,
      "metadata": {
        "id": "DZR0BtkuqBGr"
      },
      "outputs": [],
      "source": [
        "train_images, train_labels, test_images, test_labels = prep_data()\n",
        "# call the function"
      ]
    },
    {
      "cell_type": "code",
      "execution_count": null,
      "metadata": {
        "colab": {
          "base_uri": "https://localhost:8080/"
        },
        "id": "Yl03F9adNqEC",
        "outputId": "5cee99db-33a8-4db4-8036-4863d6b4994c"
      },
      "outputs": [
        {
          "name": "stdout",
          "output_type": "stream",
          "text": [
            "(60000, 28, 28, 1)\n",
            "(10000, 10)\n"
          ]
        }
      ],
      "source": [
        "print(train_images.shape)\n",
        "print(test_labels.shape)\n",
        "# print the number of training images and test labels"
      ]
    },
    {
      "cell_type": "code",
      "execution_count": null,
      "metadata": {
        "id": "h086egQsMy8i"
      },
      "outputs": [],
      "source": [
        "def get_train_val(train_images, train_labels):\n",
        "  # trained values function\n",
        "    train_images, val_images, train_labels, val_labels = train_test_split(train_images, train_labels, test_size=0.20, random_state=42)\n",
        "    return train_images, val_images, train_labels, val_labels"
      ]
    },
    {
      "cell_type": "code",
      "execution_count": null,
      "metadata": {
        "id": "UpOfGQoYqBDy"
      },
      "outputs": [],
      "source": [
        "train_images1, val_images, train_labels1, val_labels = get_train_val(train_images, train_labels)\n",
        "# call the function"
      ]
    },
    {
      "cell_type": "code",
      "execution_count": null,
      "metadata": {
        "colab": {
          "base_uri": "https://localhost:8080/"
        },
        "id": "XApo9MurN6Jb",
        "outputId": "815b5485-b23d-42cf-cfd2-ee7b24c75a9d"
      },
      "outputs": [
        {
          "name": "stdout",
          "output_type": "stream",
          "text": [
            "(48000, 28, 28, 1)\n",
            "(12000, 28, 28, 1)\n",
            "(10000, 28, 28, 1)\n",
            "(12000, 10)\n"
          ]
        }
      ],
      "source": [
        "print(train_images1.shape)\n",
        "print(val_images.shape)\n",
        "print(test_images.shape)\n",
        "print(val_labels.shape)\n",
        "# print the training images and test images with its values"
      ]
    },
    {
      "cell_type": "markdown",
      "metadata": {
        "id": "JU1zKdb4w6D1"
      },
      "source": [
        "# LeNet5 "
      ]
    },
    {
      "cell_type": "code",
      "execution_count": null,
      "metadata": {
        "id": "sWRLxXCJw6D2"
      },
      "outputs": [],
      "source": [
        "def leNet5():\n",
        "  # leNet5() function:\n",
        "  # LeNet5 is a CNN architecture used for detecting handwritten values based on Minist dataset\n",
        "    model = models.Sequential()\n",
        "    model.add(layers.Conv2D(6, kernel_size=5, strides=1, activation='tanh', padding='same', input_shape=(28, 28, 1)))\n",
        "    model.add(layers.AveragePooling2D())\n",
        "    model.add(layers.Conv2D(16, kernel_size=5, strides=1, activation='tanh', padding='valid'))\n",
        "    model.add(layers.AveragePooling2D())\n",
        "    model.add(layers.Flatten())\n",
        "    model.add(layers.Dense(120, activation='tanh'))\n",
        "    model.add(layers.Dense(84, activation='tanh'))\n",
        "    model.add(layers.Dense(10, activation='tanh'))\n",
        "    print(model.summary())\n",
        "    model.compile(optimizer='adam',\n",
        "              loss=tf.keras.losses.CategoricalCrossentropy(from_logits=True),\n",
        "              metrics=['accuracy'])\n",
        "    return model"
      ]
    },
    {
      "cell_type": "code",
      "execution_count": null,
      "metadata": {
        "colab": {
          "base_uri": "https://localhost:8080/"
        },
        "id": "4lMeyXLKw6D3",
        "outputId": "c5ff1a64-497f-4f8a-dfa0-49de02d40bf2"
      },
      "outputs": [
        {
          "name": "stdout",
          "output_type": "stream",
          "text": [
            "Model: \"sequential\"\n",
            "_________________________________________________________________\n",
            " Layer (type)                Output Shape              Param #   \n",
            "=================================================================\n",
            " conv2d (Conv2D)             (None, 28, 28, 6)         156       \n",
            "                                                                 \n",
            " average_pooling2d (AverageP  (None, 14, 14, 6)        0         \n",
            " ooling2D)                                                       \n",
            "                                                                 \n",
            " conv2d_1 (Conv2D)           (None, 10, 10, 16)        2416      \n",
            "                                                                 \n",
            " average_pooling2d_1 (Averag  (None, 5, 5, 16)         0         \n",
            " ePooling2D)                                                     \n",
            "                                                                 \n",
            " flatten (Flatten)           (None, 400)               0         \n",
            "                                                                 \n",
            " dense (Dense)               (None, 120)               48120     \n",
            "                                                                 \n",
            " dense_1 (Dense)             (None, 84)                10164     \n",
            "                                                                 \n",
            " dense_2 (Dense)             (None, 10)                850       \n",
            "                                                                 \n",
            "=================================================================\n",
            "Total params: 61,706\n",
            "Trainable params: 61,706\n",
            "Non-trainable params: 0\n",
            "_________________________________________________________________\n",
            "None\n"
          ]
        }
      ],
      "source": [
        "leNet = leNet5()\n",
        "# call the function"
      ]
    },
    {
      "cell_type": "code",
      "execution_count": null,
      "metadata": {
        "colab": {
          "base_uri": "https://localhost:8080/"
        },
        "id": "NOrXQMMuw6D4",
        "outputId": "3a0211b9-b229-4d68-b530-7af437c48b68"
      },
      "outputs": [
        {
          "name": "stdout",
          "output_type": "stream",
          "text": [
            "Epoch 1/10\n",
            "1500/1500 [==============================] - 60s 39ms/step - loss: 0.9653 - accuracy: 0.9169 - val_loss: 0.8738 - val_accuracy: 0.9581\n",
            "Epoch 2/10\n",
            "1500/1500 [==============================] - 34s 23ms/step - loss: 0.8621 - accuracy: 0.9640 - val_loss: 0.8487 - val_accuracy: 0.9718\n",
            "Epoch 3/10\n",
            "1500/1500 [==============================] - 34s 23ms/step - loss: 0.8422 - accuracy: 0.9746 - val_loss: 0.8426 - val_accuracy: 0.9732\n",
            "Epoch 4/10\n",
            "1500/1500 [==============================] - 39s 26ms/step - loss: 0.8322 - accuracy: 0.9794 - val_loss: 0.8326 - val_accuracy: 0.9793\n",
            "Epoch 5/10\n",
            "1500/1500 [==============================] - 34s 23ms/step - loss: 0.8260 - accuracy: 0.9835 - val_loss: 0.8281 - val_accuracy: 0.9813\n",
            "Epoch 6/10\n",
            "1500/1500 [==============================] - 34s 23ms/step - loss: 0.8218 - accuracy: 0.9852 - val_loss: 0.8255 - val_accuracy: 0.9844\n",
            "Epoch 7/10\n",
            "1500/1500 [==============================] - 34s 23ms/step - loss: 0.8191 - accuracy: 0.9868 - val_loss: 0.8284 - val_accuracy: 0.9814\n",
            "Epoch 8/10\n",
            "1500/1500 [==============================] - 33s 22ms/step - loss: 0.8171 - accuracy: 0.9878 - val_loss: 0.8243 - val_accuracy: 0.9843\n",
            "Epoch 9/10\n",
            "1500/1500 [==============================] - 33s 22ms/step - loss: 0.8147 - accuracy: 0.9902 - val_loss: 0.8218 - val_accuracy: 0.9850\n",
            "Epoch 10/10\n",
            "1500/1500 [==============================] - 34s 23ms/step - loss: 0.8130 - accuracy: 0.9903 - val_loss: 0.8208 - val_accuracy: 0.9858\n"
          ]
        }
      ],
      "source": [
        "le_history = leNet.fit(train_images1, train_labels1, epochs=10, validation_data=(val_images, val_labels), use_multiprocessing=True)\n",
        "# train the training images 10 times which gives prediction\n",
        "# epoch: one complete pass of training dataset through the algorithm"
      ]
    },
    {
      "cell_type": "code",
      "execution_count": null,
      "metadata": {
        "id": "TkMSSWCPw6D4"
      },
      "outputs": [],
      "source": [
        "leNet.save(\"leNet5.h5\")\n",
        "# save the result"
      ]
    },
    {
      "cell_type": "markdown",
      "metadata": {
        "id": "Pt6l1SBI0GtF"
      },
      "source": [
        "# Evaluate - LeNet5 Model"
      ]
    },
    {
      "cell_type": "code",
      "execution_count": null,
      "metadata": {
        "id": "3hCg6XMj0GtF"
      },
      "outputs": [],
      "source": [
        "def eval_model(history):\n",
        "  # evaluate model\n",
        "    plt.plot(history.history['accuracy'], label='accuracy')\n",
        "    plt.plot(history.history['val_accuracy'], label = 'val_accuracy')\n",
        "    plt.xlabel('Epoch')\n",
        "    plt.ylabel('Accuracy')\n",
        "    plt.ylim([0.8, 1])\n",
        "    plt.legend(loc='lower right')\n",
        "\n"
      ]
    },
    {
      "cell_type": "code",
      "execution_count": null,
      "metadata": {
        "colab": {
          "base_uri": "https://localhost:8080/"
        },
        "id": "bCOKU6d00GtF",
        "outputId": "635511fd-329a-4262-bc2e-fdc1619e896a"
      },
      "outputs": [
        {
          "data": {
            "image/png": "[encoded data removed]",
            "text/plain": [
              "<Figure size 432x288 with 1 Axes>"
            ]
          },
          "metadata": {},
          "output_type": "display_data"
        }
      ],
      "source": [
        "eval_model(le_history)\n",
        "# call the function"
      ]
    },
    {
      "cell_type": "markdown",
      "metadata": {
        "id": "CX2c1sLL0GtF"
      },
      "source": [
        "# Evaluate - LeNet5 Test Prediction"
      ]
    },
    {
      "cell_type": "code",
      "execution_count": null,
      "metadata": {
        "colab": {
          "base_uri": "https://localhost:8080/"
        },
        "id": "TLdPCi_c0GtF",
        "outputId": "a02e1427-55a4-4b29-eff2-b3f3b7b64f7f"
      },
      "outputs": [
        {
          "name": "stdout",
          "output_type": "stream",
          "text": [
            "313/313 - 3s - loss: 0.8242 - accuracy: 0.9840 - 3s/epoch - 9ms/step\n"
          ]
        }
      ],
      "source": [
        "test_loss, test_acc = leNet.evaluate(test_images,  test_labels, verbose=2)\n",
        "# evaluate the loss and accuracy by evaluating the leNet"
      ]
    },
    {
      "cell_type": "code",
      "execution_count": null,
      "metadata": {
        "id": "x1uPuK-u0GtF"
      },
      "outputs": [],
      "source": [
        "test_pred = leNet.predict(test_images)\n",
        "# predicted test data"
      ]
    },
    {
      "cell_type": "code",
      "execution_count": null,
      "metadata": {
        "id": "RSPWusE70GtF"
      },
      "outputs": [],
      "source": [
        "# Converting to integer label for confusion matrix calculation\n",
        "pred_test_label = tf.argmax(test_pred, axis = 1)\n",
        "# get the confusion matrix\n",
        "true_test_label = tf.argmax(test_labels, axis = 1)"
      ]
    },
    {
      "cell_type": "code",
      "execution_count": null,
      "metadata": {
        "id": "AU6iTpSt0GtG"
      },
      "outputs": [],
      "source": [
        "confusion_mtx = tf.math.confusion_matrix(pred_test_label,\n",
        "    true_test_label,\n",
        "    num_classes=10)"
      ]
    },
    {
      "cell_type": "code",
      "execution_count": null,
      "metadata": {
        "id": "YUwyf-QV0GtG"
      },
      "outputs": [],
      "source": [
        "import seaborn as sns\n",
        "# import seaborn to draw high level of attractive and statistical-informative graphics"
      ]
    },
    {
      "cell_type": "code",
      "execution_count": null,
      "metadata": {
        "colab": {
          "base_uri": "https://localhost:8080/"
        },
        "id": "976dUuv20GtG",
        "outputId": "7fe872ea-4e58-4512-c3d9-99ed55855eb2"
      },
      "outputs": [
        {
          "data": {
            "image/png": "[encoded data removed]",
            "text/plain": [
              "<Figure size 720x576 with 2 Axes>"
            ]
          },
          "metadata": {},
          "output_type": "display_data"
        }
      ],
      "source": [
        "def show_confusion_matrix(cm, labels):\n",
        "  # show confusion matrix\n",
        "    plt.figure(figsize=(10, 8))\n",
        "    sns.heatmap(cm, xticklabels=labels, yticklabels=labels, \n",
        "              annot=True, fmt='g')\n",
        "    plt.xlabel('Prediction')\n",
        "    plt.ylabel('Label')\n",
        "    plt.show()\n",
        "\n",
        "show_confusion_matrix(confusion_mtx, list(range(0,10)))"
      ]
    },
    {
      "cell_type": "code",
      "execution_count": null,
      "metadata": {
        "id": "gug7lY-gw6D9"
      },
      "outputs": [],
      "source": [
        ""
      ]
    },
    {
      "cell_type": "markdown",
      "metadata": {
        "id": "pgn5HQuo0GtE"
      },
      "source": [
        "# Create Beseline CNN Model"
      ]
    },
    {
      "cell_type": "code",
      "execution_count": null,
      "metadata": {
        "id": "3ZdhQrpy0GtE"
      },
      "outputs": [],
      "source": [
        "def cnn_model_1():\n",
        "  #  create a cnn model 1\n",
        "    model = models.Sequential()\n",
        "    model.add(layers.Conv2D(32, (3, 3), activation='relu', kernel_initializer='he_uniform', input_shape=(28, 28, 1)))\n",
        "    model.add(layers.MaxPooling2D((2, 2)))\n",
        "    model.add(layers.Flatten())\n",
        "    model.add(layers.Dense(100, activation='relu', kernel_initializer='he_uniform'))\n",
        "    model.add(layers.Dense(10))\n",
        "    print(model.summary())\n",
        "    model.compile(optimizer='adam',\n",
        "              loss=tf.keras.losses.CategoricalCrossentropy(from_logits=True),\n",
        "              metrics=['accuracy'])\n",
        "    return model\n",
        "  # tf.keras.losses.SparseCategoricalCrossentropy(from_logits=True),#auto encode to one hote from label \n",
        "  # Whether y_pred is expected to be a logits tensor. By default, we assume that y_pred encodes a probability distribution. #False, when proba dist-->sig function as activation\n"
      ]
    },
    {
      "cell_type": "code",
      "execution_count": null,
      "metadata": {
        "colab": {
          "base_uri": "https://localhost:8080/"
        },
        "id": "46HzPzgJ0GtE",
        "outputId": "7a177920-defa-4b7c-9b72-4e88d0563ca1"
      },
      "outputs": [
        {
          "name": "stdout",
          "output_type": "stream",
          "text": [
            "Model: \"sequential_1\"\n",
            "_________________________________________________________________\n",
            " Layer (type)                Output Shape              Param #   \n",
            "=================================================================\n",
            " conv2d_2 (Conv2D)           (None, 26, 26, 32)        320       \n",
            "                                                                 \n",
            " max_pooling2d (MaxPooling2D  (None, 13, 13, 32)       0         \n",
            " )                                                               \n",
            "                                                                 \n",
            " flatten_1 (Flatten)         (None, 5408)              0         \n",
            "                                                                 \n",
            " dense_3 (Dense)             (None, 100)               540900    \n",
            "                                                                 \n",
            " dense_4 (Dense)             (None, 10)                1010      \n",
            "                                                                 \n",
            "=================================================================\n",
            "Total params: 542,230\n",
            "Trainable params: 542,230\n",
            "Non-trainable params: 0\n",
            "_________________________________________________________________\n",
            "None\n"
          ]
        }
      ],
      "source": [
        "model1 = cnn_model_1()\n",
        "# Model1 variable for the CNN model 1"
      ]
    },
    {
      "cell_type": "markdown",
      "metadata": {
        "id": "NpG-HBxf0GtE"
      },
      "source": [
        "# Train - Baseline CNN"
      ]
    },
    {
      "cell_type": "code",
      "execution_count": null,
      "metadata": {
        "colab": {
          "base_uri": "https://localhost:8080/"
        },
        "id": "yZL66In10GtE",
        "outputId": "a88c6ca9-68dd-4050-cdb4-c45000a71646"
      },
      "outputs": [
        {
          "name": "stdout",
          "output_type": "stream",
          "text": [
            "Epoch 1/10\n",
            "1500/1500 [==============================] - 34s 23ms/step - loss: 0.1441 - accuracy: 0.9556 - val_loss: 0.0718 - val_accuracy: 0.9790\n",
            "Epoch 2/10\n",
            "1500/1500 [==============================] - 33s 22ms/step - loss: 0.0483 - accuracy: 0.9852 - val_loss: 0.0562 - val_accuracy: 0.9832\n",
            "Epoch 3/10\n",
            "1500/1500 [==============================] - 33s 22ms/step - loss: 0.0275 - accuracy: 0.9909 - val_loss: 0.0527 - val_accuracy: 0.9848\n",
            "Epoch 4/10\n",
            "1500/1500 [==============================] - 34s 23ms/step - loss: 0.0174 - accuracy: 0.9948 - val_loss: 0.0683 - val_accuracy: 0.9822\n",
            "Epoch 5/10\n",
            "1500/1500 [==============================] - 33s 22ms/step - loss: 0.0131 - accuracy: 0.9955 - val_loss: 0.0599 - val_accuracy: 0.9827\n",
            "Epoch 6/10\n",
            "1500/1500 [==============================] - 33s 22ms/step - loss: 0.0085 - accuracy: 0.9973 - val_loss: 0.0536 - val_accuracy: 0.9882\n",
            "Epoch 7/10\n",
            "1500/1500 [==============================] - 34s 23ms/step - loss: 0.0074 - accuracy: 0.9976 - val_loss: 0.0974 - val_accuracy: 0.9772\n",
            "Epoch 8/10\n",
            "1500/1500 [==============================] - 33s 22ms/step - loss: 0.0071 - accuracy: 0.9975 - val_loss: 0.0595 - val_accuracy: 0.9873\n",
            "Epoch 9/10\n",
            "1500/1500 [==============================] - 32s 22ms/step - loss: 0.0036 - accuracy: 0.9990 - val_loss: 0.0710 - val_accuracy: 0.9856\n",
            "Epoch 10/10\n",
            "1500/1500 [==============================] - 32s 22ms/step - loss: 0.0045 - accuracy: 0.9985 - val_loss: 0.0617 - val_accuracy: 0.9876\n"
          ]
        }
      ],
      "source": [
        "history1 = model1.fit(train_images1, train_labels1, epochs=10, validation_data=(val_images, val_labels), use_multiprocessing=True)\n",
        "# train the model1"
      ]
    },
    {
      "cell_type": "code",
      "execution_count": null,
      "metadata": {
        "id": "Yu8CPSWBw6EA"
      },
      "outputs": [],
      "source": [
        "model1.save(\"base_cnn.h5\")\n",
        "# save the data of model1"
      ]
    },
    {
      "cell_type": "markdown",
      "metadata": {
        "id": "6ijYQs9jw6EB"
      },
      "source": [
        "# Evaluate - Baseline CNN Model"
      ]
    },
    {
      "cell_type": "code",
      "execution_count": null,
      "metadata": {
        "id": "_zktUizOw6EB"
      },
      "outputs": [],
      "source": [
        "def eval_model(history):\n",
        "  # evaluate model history\n",
        "    plt.plot(history.history['accuracy'], label='accuracy')\n",
        "    plt.plot(history.history['val_accuracy'], label = 'val_accuracy')\n",
        "    plt.xlabel('Epoch')\n",
        "    plt.ylabel('Accuracy')\n",
        "    plt.ylim([0.8, 1])\n",
        "    plt.legend(loc='lower right')\n",
        "\n"
      ]
    },
    {
      "cell_type": "code",
      "execution_count": null,
      "metadata": {
        "colab": {
          "base_uri": "https://localhost:8080/"
        },
        "id": "bvzptjRbw6EB",
        "outputId": "84985bb4-efad-4eeb-b7fb-8708b01084d1"
      },
      "outputs": [
        {
          "data": {
            "image/png": "[encoded data removed]",
            "text/plain": [
              "<Figure size 432x288 with 1 Axes>"
            ]
          },
          "metadata": {},
          "output_type": "display_data"
        }
      ],
      "source": [
        "eval_model(history1)\n",
        "# call the function"
      ]
    },
    {
      "cell_type": "markdown",
      "metadata": {
        "id": "kygbkpNNw6EC"
      },
      "source": [
        "# Evaluate - Baseline CNN Test Prediction"
      ]
    },
    {
      "cell_type": "code",
      "execution_count": null,
      "metadata": {
        "colab": {
          "base_uri": "https://localhost:8080/"
        },
        "id": "cguz2tWDw6EC",
        "outputId": "6c7e4926-ea40-46c1-c035-e778899e2b1f"
      },
      "outputs": [
        {
          "name": "stdout",
          "output_type": "stream",
          "text": [
            "313/313 - 2s - loss: 0.0632 - accuracy: 0.9870 - 2s/epoch - 7ms/step\n"
          ]
        }
      ],
      "source": [
        "test_loss, test_acc = model1.evaluate(test_images,  test_labels, verbose=2)\n",
        "# loss and accuracy for model1"
      ]
    },
    {
      "cell_type": "code",
      "execution_count": null,
      "metadata": {
        "id": "yVYjtEo2w6ED"
      },
      "outputs": [],
      "source": [
        "test_pred = model1.predict(test_images)\n",
        "# predicted test data"
      ]
    },
    {
      "cell_type": "code",
      "execution_count": null,
      "metadata": {
        "id": "l2jLpB3pw6ED"
      },
      "outputs": [],
      "source": [
        "# Converting to integer label for confusion matrix calculation\n",
        "pred_test_label = tf.argmax(test_pred, axis = 1)\n",
        "true_test_label = tf.argmax(test_labels, axis = 1)"
      ]
    },
    {
      "cell_type": "code",
      "execution_count": null,
      "metadata": {
        "id": "RRpSG3Fjw6ED"
      },
      "outputs": [],
      "source": [
        "confusion_mtx = tf.math.confusion_matrix(pred_test_label,\n",
        "    true_test_label,\n",
        "    num_classes=10)"
      ]
    },
    {
      "cell_type": "code",
      "execution_count": null,
      "metadata": {
        "id": "vb5EGTN-w6EE"
      },
      "outputs": [],
      "source": [
        "import seaborn as sns\n",
        "# import seaborn"
      ]
    },
    {
      "cell_type": "code",
      "execution_count": null,
      "metadata": {
        "colab": {
          "base_uri": "https://localhost:8080/",
          "height": 497
        },
        "id": "PPZWgJsHw6EE",
        "outputId": "151501ea-dc77-418e-d912-3c5b28035324"
      },
      "outputs": [
        {
          "data": {
            "image/png": "[encoded data removed]",
            "text/plain": [
              "<Figure size 720x576 with 2 Axes>"
            ]
          },
          "metadata": {},
          "output_type": "display_data"
        }
      ],
      "source": [
        "def show_confusion_matrix(cm, labels):\n",
        "  # show confusion matrix\n",
        "    plt.figure(figsize=(10, 8))\n",
        "    sns.heatmap(cm, xticklabels=labels, yticklabels=labels, \n",
        "              annot=True, fmt='g')\n",
        "    plt.xlabel('Prediction')\n",
        "    plt.ylabel('Label')\n",
        "    plt.show()\n",
        "\n",
        "show_confusion_matrix(confusion_mtx, list(range(0,10)))"
      ]
    },
    {
      "cell_type": "markdown",
      "metadata": {
        "id": "aB3yTHVftF1T"
      },
      "source": [
        "# Create CNN Model - Increase Depth"
      ]
    },
    {
      "cell_type": "code",
      "execution_count": null,
      "metadata": {
        "id": "NnAIqTQEqBAt"
      },
      "outputs": [],
      "source": [
        "# We can increase the depth of the feature extractor part of the model, \n",
        "# following a VGG-like pattern of adding more convolutional and pooling layers \n",
        "# with the same sized filter, while increasing the number of filters\n",
        "def cnn_model_2():\n",
        "  # cnn model2\n",
        "    model = models.Sequential()\n",
        "    model.add(layers.Conv2D(32, (3, 3), activation='relu', kernel_initializer='he_uniform', input_shape=(28, 28, 1)))\n",
        "    model.add(layers.MaxPooling2D((2, 2)))\n",
        "    model.add(layers.Conv2D(64, (3, 3), activation='relu', kernel_initializer='he_uniform'))\n",
        "    model.add(layers.Conv2D(64, (3, 3), activation='relu', kernel_initializer='he_uniform'))\n",
        "    model.add(layers.MaxPooling2D((2, 2)))\n",
        "    model.add(layers.Flatten())\n",
        "    model.add(layers.Dense(100, activation='relu', kernel_initializer='he_uniform'))\n",
        "    model.add(layers.Dense(10))\n",
        "    print(model.summary())\n",
        "    model.compile(optimizer='adam',\n",
        "              loss=tf.keras.losses.CategoricalCrossentropy(from_logits=True),\n",
        "              metrics=['accuracy'])\n",
        "    # tf.keras.losses.SparseCategoricalCrossentropy(from_logits=True),#auto encode to one hote from label \n",
        "    # Whether y_pred is expected to be a logits tensor. By default, we assume that y_pred encodes a probability distribution. #False, when proba dist-->sig function as activation\n",
        "    return model\n"
      ]
    },
    {
      "cell_type": "code",
      "execution_count": null,
      "metadata": {
        "colab": {
          "base_uri": "https://localhost:8080/"
        },
        "id": "bGJ0OX5oqA-P",
        "outputId": "48b2c214-4cb5-43c7-ddad-eca8f3de9544"
      },
      "outputs": [
        {
          "name": "stdout",
          "output_type": "stream",
          "text": [
            "Model: \"sequential_2\"\n",
            "_________________________________________________________________\n",
            " Layer (type)                Output Shape              Param #   \n",
            "=================================================================\n",
            " conv2d_3 (Conv2D)           (None, 26, 26, 32)        320       \n",
            "                                                                 \n",
            " max_pooling2d_1 (MaxPooling  (None, 13, 13, 32)       0         \n",
            " 2D)                                                             \n",
            "                                                                 \n",
            " conv2d_4 (Conv2D)           (None, 11, 11, 64)        18496     \n",
            "                                                                 \n",
            " conv2d_5 (Conv2D)           (None, 9, 9, 64)          36928     \n",
            "                                                                 \n",
            " max_pooling2d_2 (MaxPooling  (None, 4, 4, 64)         0         \n",
            " 2D)                                                             \n",
            "                                                                 \n",
            " flatten_2 (Flatten)         (None, 1024)              0         \n",
            "                                                                 \n",
            " dense_5 (Dense)             (None, 100)               102500    \n",
            "                                                                 \n",
            " dense_6 (Dense)             (None, 10)                1010      \n",
            "                                                                 \n",
            "=================================================================\n",
            "Total params: 159,254\n",
            "Trainable params: 159,254\n",
            "Non-trainable params: 0\n",
            "_________________________________________________________________\n",
            "None\n"
          ]
        }
      ],
      "source": [
        "model2 = cnn_model_2()\n",
        "# call the function"
      ]
    },
    {
      "cell_type": "markdown",
      "metadata": {
        "id": "Fay0qjwLEKjX"
      },
      "source": [
        "# Train - Increase Depth CNN Model"
      ]
    },
    {
      "cell_type": "code",
      "execution_count": null,
      "metadata": {
        "colab": {
          "base_uri": "https://localhost:8080/"
        },
        "id": "F9PcuDQ3EDEq",
        "outputId": "80a62dfc-009d-4466-d544-b616decaba6b"
      },
      "outputs": [
        {
          "name": "stdout",
          "output_type": "stream",
          "text": [
            "Epoch 1/10\n",
            "1500/1500 [==============================] - 103s 68ms/step - loss: 0.1239 - accuracy: 0.9613 - val_loss: 0.0709 - val_accuracy: 0.9772\n",
            "Epoch 2/10\n",
            "1500/1500 [==============================] - 79s 52ms/step - loss: 0.0451 - accuracy: 0.9853 - val_loss: 0.0433 - val_accuracy: 0.9864\n",
            "Epoch 3/10\n",
            "1500/1500 [==============================] - 102s 68ms/step - loss: 0.0305 - accuracy: 0.9906 - val_loss: 0.0389 - val_accuracy: 0.9891\n",
            "Epoch 4/10\n",
            "1500/1500 [==============================] - 106s 71ms/step - loss: 0.0215 - accuracy: 0.9933 - val_loss: 0.0426 - val_accuracy: 0.9887\n",
            "Epoch 5/10\n",
            "1500/1500 [==============================] - 134s 89ms/step - loss: 0.0176 - accuracy: 0.9943 - val_loss: 0.0391 - val_accuracy: 0.9904\n",
            "Epoch 6/10\n",
            "1500/1500 [==============================] - 108s 72ms/step - loss: 0.0137 - accuracy: 0.9950 - val_loss: 0.0510 - val_accuracy: 0.9871\n",
            "Epoch 7/10\n",
            "1500/1500 [==============================] - 83s 55ms/step - loss: 0.0113 - accuracy: 0.9965 - val_loss: 0.0376 - val_accuracy: 0.9904\n",
            "Epoch 8/10\n",
            "1500/1500 [==============================] - 116s 77ms/step - loss: 0.0115 - accuracy: 0.9959 - val_loss: 0.0450 - val_accuracy: 0.9896\n",
            "Epoch 9/10\n",
            "1500/1500 [==============================] - 123s 82ms/step - loss: 0.0076 - accuracy: 0.9975 - val_loss: 0.0575 - val_accuracy: 0.9879\n",
            "Epoch 10/10\n",
            "1500/1500 [==============================] - 114s 76ms/step - loss: 0.0086 - accuracy: 0.9972 - val_loss: 0.0366 - val_accuracy: 0.9921\n"
          ]
        }
      ],
      "source": [
        "# train the CNN model\n",
        "history2 = model2.fit(train_images1, train_labels1, epochs=10, validation_data=(val_images, val_labels),use_multiprocessing=True)\n",
        "# train the model2"
      ]
    },
    {
      "cell_type": "markdown",
      "metadata": {
        "id": "vnBi7u9_EY_F"
      },
      "source": [
        "# Evaluate Model"
      ]
    },
    {
      "cell_type": "code",
      "execution_count": null,
      "metadata": {
        "id": "ZKD6h8XGECZo"
      },
      "outputs": [],
      "source": [
        "def eval_model(history):\n",
        "  # evaluate model3\n",
        "  # evaluate model\n",
        "  plt.plot(history.history['accuracy'], label='accuracy')\n",
        "  plt.plot(history.history['val_accuracy'], label = 'val_accuracy')\n",
        "  plt.xlabel('Epoch')\n",
        "  plt.ylabel('Accuracy')\n",
        "  plt.ylim([0.8, 1])\n",
        "  plt.legend(loc='lower right')"
      ]
    },
    {
      "cell_type": "code",
      "execution_count": null,
      "metadata": {
        "colab": {
          "base_uri": "https://localhost:8080/",
          "height": 283
        },
        "id": "zmuLRt2-WGFl",
        "outputId": "8d05d26d-5029-4012-803b-148c93aa5c3b"
      },
      "outputs": [
        {
          "data": {
            "image/png": "[encoded data removed]",
            "text/plain": [
              "<Figure size 432x288 with 1 Axes>"
            ]
          },
          "metadata": {},
          "output_type": "display_data"
        }
      ],
      "source": [
        "eval_model(history2)\n",
        "# call eval_model() function"
      ]
    },
    {
      "cell_type": "markdown",
      "metadata": {
        "id": "5HfbcbTMqccF"
      },
      "source": [
        "# Evaluate Test Prediction"
      ]
    },
    {
      "cell_type": "code",
      "execution_count": null,
      "metadata": {
        "colab": {
          "base_uri": "https://localhost:8080/"
        },
        "id": "RfSHp6OJWGCD",
        "outputId": "43cad635-a233-477b-c609-19142c137792"
      },
      "outputs": [
        {
          "name": "stdout",
          "output_type": "stream",
          "text": [
            "313/313 - 4s - loss: 0.0324 - accuracy: 0.9917 - 4s/epoch - 13ms/step\n"
          ]
        }
      ],
      "source": [
        "test_loss, test_acc = model2.evaluate(test_images,  test_labels, verbose=2)\n",
        "# get the test loss and test accuracy"
      ]
    },
    {
      "cell_type": "code",
      "execution_count": null,
      "metadata": {
        "id": "gmbUrMCYaAze"
      },
      "outputs": [],
      "source": [
        "test_pred = model2.predict(test_images)\n",
        "# get the prediction"
      ]
    },
    {
      "cell_type": "code",
      "execution_count": null,
      "metadata": {
        "id": "qKvmD3rppy0B"
      },
      "outputs": [],
      "source": [
        "# Converting to integer label for confusion matrix calculation\n",
        "pred_test_label = tf.argmax(test_pred, axis = 1)\n",
        "true_test_label = tf.argmax(test_labels, axis = 1)"
      ]
    },
    {
      "cell_type": "code",
      "execution_count": null,
      "metadata": {
        "id": "6JdOb2hRZWxd"
      },
      "outputs": [],
      "source": [
        "# get the confusion matrix\n",
        "confusion_mtx = tf.math.confusion_matrix(pred_test_label,\n",
        "    true_test_label,\n",
        "    num_classes=10)"
      ]
    },
    {
      "cell_type": "code",
      "execution_count": null,
      "metadata": {
        "colab": {
          "base_uri": "https://localhost:8080/"
        },
        "id": "BFmV--e-w6EK",
        "outputId": "ff4838ab-12f9-4223-d17f-624d1a03030a"
      },
      "outputs": [
        {
          "name": "stdout",
          "output_type": "stream",
          "text": [
            "precision: [0.99184506 0.99647577 0.99513145 0.9950446  0.99387755 0.98224195\n",
            " 0.99161426 0.99224054 0.98874104 0.9880597 ]\n",
            "recall: [0.99285714 0.99647577 0.99031008 0.99405941 0.99185336 0.99215247\n",
            " 0.9874739  0.99513619 0.99178645 0.98414272]\n",
            "fscore: [0.99235084 0.99647577 0.99271491 0.99455176 0.99286442 0.98717234\n",
            " 0.98953975 0.99368626 0.9902614  0.98609732]\n",
            "support: [ 980 1135 1032 1010  982  892  958 1028  974 1009]\n"
          ]
        }
      ],
      "source": [
        "from sklearn.metrics import precision_recall_fscore_support as score\n",
        "precision, recall, fscore, support = score(true_test_label, pred_test_label)\n",
        "\n",
        "# get the precision, recall, score and support\n",
        "print('precision: {}'.format(precision))\n",
        "print('recall: {}'.format(recall))\n",
        "print('fscore: {}'.format(fscore))\n",
        "print('support: {}'.format(support))"
      ]
    },
    {
      "cell_type": "code",
      "execution_count": null,
      "metadata": {
        "colab": {
          "base_uri": "https://localhost:8080/",
          "height": 363
        },
        "id": "0rd6xiN_w6EL",
        "outputId": "8ab19631-28a4-4293-f7f8-40891a98a5a9"
      },
      "outputs": [
        {
          "data": {
            "text/html": [
              "\n",
              "  <div id=\"df-bc3251d2-44a6-481d-badf-e79a47afd1fd\">\n",
              "    <div class=\"colab-df-container\">\n",
              "      <div>\n",
              "<style scoped>\n",
              "    .dataframe tbody tr th:only-of-type {\n",
              "        vertical-align: middle;\n",
              "    }\n",
              "\n",
              "    .dataframe tbody tr th {\n",
              "        vertical-align: top;\n",
              "    }\n",
              "\n",
              "    .dataframe thead th {\n",
              "        text-align: right;\n",
              "    }\n",
              "</style>\n",
              "<table border=\"1\" class=\"dataframe\">\n",
              "  <thead>\n",
              "    <tr style=\"text-align: right;\">\n",
              "      <th></th>\n",
              "      <th>Class</th>\n",
              "      <th>Precision</th>\n",
              "      <th>Recall</th>\n",
              "      <th>Fscore</th>\n",
              "    </tr>\n",
              "  </thead>\n",
              "  <tbody>\n",
              "    <tr>\n",
              "      <th>0</th>\n",
              "      <td>0</td>\n",
              "      <td>0.991845</td>\n",
              "      <td>0.992857</td>\n",
              "      <td>0.992351</td>\n",
              "    </tr>\n",
              "    <tr>\n",
              "      <th>1</th>\n",
              "      <td>1</td>\n",
              "      <td>0.996476</td>\n",
              "      <td>0.996476</td>\n",
              "      <td>0.996476</td>\n",
              "    </tr>\n",
              "    <tr>\n",
              "      <th>2</th>\n",
              "      <td>2</td>\n",
              "      <td>0.995131</td>\n",
              "      <td>0.990310</td>\n",
              "      <td>0.992715</td>\n",
              "    </tr>\n",
              "    <tr>\n",
              "      <th>3</th>\n",
              "      <td>3</td>\n",
              "      <td>0.995045</td>\n",
              "      <td>0.994059</td>\n",
              "      <td>0.994552</td>\n",
              "    </tr>\n",
              "    <tr>\n",
              "      <th>4</th>\n",
              "      <td>4</td>\n",
              "      <td>0.993878</td>\n",
              "      <td>0.991853</td>\n",
              "      <td>0.992864</td>\n",
              "    </tr>\n",
              "    <tr>\n",
              "      <th>5</th>\n",
              "      <td>5</td>\n",
              "      <td>0.982242</td>\n",
              "      <td>0.992152</td>\n",
              "      <td>0.987172</td>\n",
              "    </tr>\n",
              "    <tr>\n",
              "      <th>6</th>\n",
              "      <td>6</td>\n",
              "      <td>0.991614</td>\n",
              "      <td>0.987474</td>\n",
              "      <td>0.989540</td>\n",
              "    </tr>\n",
              "    <tr>\n",
              "      <th>7</th>\n",
              "      <td>7</td>\n",
              "      <td>0.992241</td>\n",
              "      <td>0.995136</td>\n",
              "      <td>0.993686</td>\n",
              "    </tr>\n",
              "    <tr>\n",
              "      <th>8</th>\n",
              "      <td>8</td>\n",
              "      <td>0.988741</td>\n",
              "      <td>0.991786</td>\n",
              "      <td>0.990261</td>\n",
              "    </tr>\n",
              "    <tr>\n",
              "      <th>9</th>\n",
              "      <td>9</td>\n",
              "      <td>0.988060</td>\n",
              "      <td>0.984143</td>\n",
              "      <td>0.986097</td>\n",
              "    </tr>\n",
              "  </tbody>\n",
              "</table>\n",
              "</div>\n",
              "      <button class=\"colab-df-convert\" onclick=\"convertToInteractive('df-bc3251d2-44a6-481d-badf-e79a47afd1fd')\"\n",
              "              title=\"Convert this dataframe to an interactive table.\"\n",
              "              style=\"display:none;\">\n",
              "        \n",
              "  <svg xmlns=\"http://www.w3.org/2000/svg\" height=\"24px\"viewBox=\"0 0 24 24\"\n",
              "       width=\"24px\">\n",
              "    <path d=\"M0 0h24v24H0V0z\" fill=\"none\"/>\n",
              "    <path d=\"M18.56 5.44l.94 2.06.94-2.06 2.06-.94-2.06-.94-.94-2.06-.94 2.06-2.06.94zm-11 1L8.5 8.5l.94-2.06 2.06-.94-2.06-.94L8.5 2.5l-.94 2.06-2.06.94zm10 10l.94 2.06.94-2.06 2.06-.94-2.06-.94-.94-2.06-.94 2.06-2.06.94z\"/><path d=\"M17.41 7.96l-1.37-1.37c-.4-.4-.92-.59-1.43-.59-.52 0-1.04.2-1.43.59L10.3 9.45l-7.72 7.72c-.78.78-.78 2.05 0 2.83L4 21.41c.39.39.9.59 1.41.59.51 0 1.02-.2 1.41-.59l7.78-7.78 2.81-2.81c.8-.78.8-2.07 0-2.86zM5.41 20L4 18.59l7.72-7.72 1.47 1.35L5.41 20z\"/>\n",
              "  </svg>\n",
              "      </button>\n",
              "      \n",
              "  <style>\n",
              "    .colab-df-container {\n",
              "      display:flex;\n",
              "      flex-wrap:wrap;\n",
              "      gap: 12px;\n",
              "    }\n",
              "\n",
              "    .colab-df-convert {\n",
              "      background-color: #E8F0FE;\n",
              "      border: none;\n",
              "      border-radius: 50%;\n",
              "      cursor: pointer;\n",
              "      display: none;\n",
              "      fill: #1967D2;\n",
              "      height: 32px;\n",
              "      padding: 0 0 0 0;\n",
              "      width: 32px;\n",
              "    }\n",
              "\n",
              "    .colab-df-convert:hover {\n",
              "      background-color: #E2EBFA;\n",
              "      box-shadow: 0px 1px 2px rgba(60, 64, 67, 0.3), 0px 1px 3px 1px rgba(60, 64, 67, 0.15);\n",
              "      fill: #174EA6;\n",
              "    }\n",
              "\n",
              "    [theme=dark] .colab-df-convert {\n",
              "      background-color: #3B4455;\n",
              "      fill: #D2E3FC;\n",
              "    }\n",
              "\n",
              "    [theme=dark] .colab-df-convert:hover {\n",
              "      background-color: #434B5C;\n",
              "      box-shadow: 0px 1px 3px 1px rgba(0, 0, 0, 0.15);\n",
              "      filter: drop-shadow(0px 1px 2px rgba(0, 0, 0, 0.3));\n",
              "      fill: #FFFFFF;\n",
              "    }\n",
              "  </style>\n",
              "\n",
              "      <script>\n",
              "        const buttonEl =\n",
              "          document.querySelector('#df-bc3251d2-44a6-481d-badf-e79a47afd1fd button.colab-df-convert');\n",
              "        buttonEl.style.display =\n",
              "          google.colab.kernel.accessAllowed ? 'block' : 'none';\n",
              "\n",
              "        async function convertToInteractive(key) {\n",
              "          const element = document.querySelector('#df-bc3251d2-44a6-481d-badf-e79a47afd1fd');\n",
              "          const dataTable =\n",
              "            await google.colab.kernel.invokeFunction('convertToInteractive',\n",
              "                                                     [key], {});\n",
              "          if (!dataTable) return;\n",
              "\n",
              "          const docLinkHtml = 'Like what you see? Visit the ' +\n",
              "            '<a target=\"_blank\" href=https://colab.research.google.com/notebooks/data_table.ipynb>data table notebook</a>'\n",
              "            + ' to learn more about interactive tables.';\n",
              "          element.innerHTML = '';\n",
              "          dataTable['output_type'] = 'display_data';\n",
              "          await google.colab.output.renderOutput(dataTable, element);\n",
              "          const docLink = document.createElement('div');\n",
              "          docLink.innerHTML = docLinkHtml;\n",
              "          element.appendChild(docLink);\n",
              "        }\n",
              "      </script>\n",
              "    </div>\n",
              "  </div>\n",
              "  "
            ],
            "text/plain": [
              "   Class  Precision    Recall    Fscore\n",
              "0      0   0.991845  0.992857  0.992351\n",
              "1      1   0.996476  0.996476  0.996476\n",
              "2      2   0.995131  0.990310  0.992715\n",
              "3      3   0.995045  0.994059  0.994552\n",
              "4      4   0.993878  0.991853  0.992864\n",
              "5      5   0.982242  0.992152  0.987172\n",
              "6      6   0.991614  0.987474  0.989540\n",
              "7      7   0.992241  0.995136  0.993686\n",
              "8      8   0.988741  0.991786  0.990261\n",
              "9      9   0.988060  0.984143  0.986097"
            ]
          },
          "execution_count": 48,
          "metadata": {},
          "output_type": "execute_result"
        }
      ],
      "source": [
        "import pandas as pd\n",
        "# import pandas\n",
        "df_ = {\"Class\":list(range(0,10)), \"Precision\":precision, \"Recall\": recall, \"Fscore\":fscore}\n",
        "# dataframe\n",
        "df = pd.DataFrame(df_)\n",
        "df.head(10)"
      ]
    },
    {
      "cell_type": "code",
      "execution_count": null,
      "metadata": {
        "id": "wj8HrUFeqVDf"
      },
      "outputs": [],
      "source": [
        "import seaborn as sns\n",
        "# import seaborn"
      ]
    },
    {
      "cell_type": "code",
      "execution_count": null,
      "metadata": {
        "colab": {
          "base_uri": "https://localhost:8080/",
          "height": 497
        },
        "id": "fDqPnIK9EB0a",
        "outputId": "eb467c09-5016-42a1-942d-4666a45a6c8f"
      },
      "outputs": [
        {
          "data": {
            "image/png": "[encoded data removed]",
            "text/plain": [
              "<Figure size 720x576 with 2 Axes>"
            ]
          },
          "metadata": {},
          "output_type": "display_data"
        }
      ],
      "source": [
        "def show_confusion_matrix(cm, labels):\n",
        "  # show confusion matrix\n",
        "    plt.figure(figsize=(10, 8))\n",
        "    sns.heatmap(cm, xticklabels=labels, yticklabels=labels, \n",
        "              annot=True, fmt='g')\n",
        "    plt.xlabel('Prediction')\n",
        "    plt.ylabel('Label')\n",
        "    plt.show()\n",
        "\n",
        "show_confusion_matrix(confusion_mtx, list(range(0,10)))"
      ]
    },
    {
      "cell_type": "markdown",
      "metadata": {
        "id": "1_WakZzIALEc"
      },
      "source": [
        "# Hyper Param Tuning Best Model - Increased Depth CNN"
      ]
    },
    {
      "cell_type": "code",
      "execution_count": null,
      "metadata": {
        "id": "h4qYeQtnq2AM"
      },
      "outputs": [],
      "source": [
        "def model_builder(hp):\n",
        "  # model builder\n",
        "    # Tune the learning rate for the optimizer\n",
        "    model = models.Sequential()\n",
        "    model.add(layers.Conv2D(32, (3, 3), activation='relu', kernel_initializer='he_uniform', input_shape=(28, 28, 1)))\n",
        "    model.add(layers.MaxPooling2D((2, 2)))\n",
        "    model.add(layers.Conv2D(64, (3, 3), activation='relu', kernel_initializer='he_uniform'))\n",
        "    model.add(layers.Conv2D(64, (3, 3), activation='relu', kernel_initializer='he_uniform'))\n",
        "    model.add(layers.MaxPooling2D((2, 2)))\n",
        "    model.add(layers.Flatten())\n",
        "    # Tune the number of units in the first Dense layer\n",
        "    # Choose an optimal value between 32-512\n",
        "    hp_units = hp.Choice('units',  values=[64, 100, 128, 256 ])\n",
        "    model.add(layers.Dense(units=hp_units, activation='relu'))\n",
        "    model.add(layers.Dense(10))\n",
        "    print(model.summary())\n",
        "    hp_optimizer = hp.Choice('optimizer', values=['adam', 'sgd'])\n",
        "    model.compile(optimizer=hp_optimizer,\n",
        "              loss=tf.keras.losses.CategoricalCrossentropy(from_logits=True),\n",
        "              metrics=['accuracy'])\n",
        "    return model"
      ]
    },
    {
      "cell_type": "markdown",
      "metadata": {
        "id": "0J1VYw4q3x0b"
      },
      "source": [
        "## Instantiate the tuner and perform hypertuning\n",
        "\n",
        "Instantiate the tuner to perform the hypertuning. The Keras Tuner has four tuners available - `RandomSearch`, `Hyperband`, `BayesianOptimization`, and `Sklearn`. In this tutorial, you use the [Hyperband](https://arxiv.org/pdf/1603.06560.pdf) tuner.\n",
        "\n",
        "To instantiate the Hyperband tuner, you must specify the hypermodel, the `objective` to optimize and the maximum number of epochs to train (`max_epochs`)."
      ]
    },
    {
      "cell_type": "code",
      "execution_count": null,
      "metadata": {
        "colab": {
          "base_uri": "https://localhost:8080/"
        },
        "id": "oichQFly6Y46",
        "outputId": "39652373-2c1f-407c-e92f-f7c8faa20860"
      },
      "outputs": [
        {
          "name": "stdout",
          "output_type": "stream",
          "text": [
            "Model: \"sequential_3\"\n",
            "_________________________________________________________________\n",
            " Layer (type)                Output Shape              Param #   \n",
            "=================================================================\n",
            " conv2d_6 (Conv2D)           (None, 26, 26, 32)        320       \n",
            "                                                                 \n",
            " max_pooling2d_3 (MaxPooling  (None, 13, 13, 32)       0         \n",
            " 2D)                                                             \n",
            "                                                                 \n",
            " conv2d_7 (Conv2D)           (None, 11, 11, 64)        18496     \n",
            "                                                                 \n",
            " conv2d_8 (Conv2D)           (None, 9, 9, 64)          36928     \n",
            "                                                                 \n",
            " max_pooling2d_4 (MaxPooling  (None, 4, 4, 64)         0         \n",
            " 2D)                                                             \n",
            "                                                                 \n",
            " flatten_3 (Flatten)         (None, 1024)              0         \n",
            "                                                                 \n",
            " dense_7 (Dense)             (None, 64)                65600     \n",
            "                                                                 \n",
            " dense_8 (Dense)             (None, 10)                650       \n",
            "                                                                 \n",
            "=================================================================\n",
            "Total params: 121,994\n",
            "Trainable params: 121,994\n",
            "Non-trainable params: 0\n",
            "_________________________________________________________________\n",
            "None\n"
          ]
        }
      ],
      "source": [
        "# initialize the tuner\n",
        "tuner = kt.Hyperband(model_builder,\n",
        "                     objective='val_accuracy',\n",
        "                     max_epochs=15,\n",
        "                     factor=3,\n",
        "                     directory='my_dir',\n",
        "                     project_name='intro_to_kt')"
      ]
    },
    {
      "cell_type": "markdown",
      "metadata": {
        "id": "VaIhhdKf9VtI"
      },
      "source": [
        "The Hyperband tuning algorithm uses adaptive resource allocation and early-stopping to quickly converge on a high-performing model. This is done using a sports championship style bracket. The algorithm trains a large number of models for a few epochs and carries forward only the top-performing half of models to the next round. Hyperband determines the number of models to train in a bracket by computing 1 + log<sub>`factor`</sub>(`max_epochs`) and rounding it up to the nearest integer."
      ]
    },
    {
      "cell_type": "markdown",
      "metadata": {
        "id": "cwhBdXx0Ekj8"
      },
      "source": [
        "Create a callback to stop training early after reaching a certain value for the validation loss."
      ]
    },
    {
      "cell_type": "code",
      "execution_count": null,
      "metadata": {
        "id": "WT9IkS9NEjLc"
      },
      "outputs": [],
      "source": [
        "stop_early = tf.keras.callbacks.EarlyStopping(monitor='val_loss', patience=4)\n",
        "# stop the trainig if there is validation loss more"
      ]
    },
    {
      "cell_type": "markdown",
      "metadata": {
        "id": "UKghEo15Tduy"
      },
      "source": [
        "Run the hyperparameter search. The arguments for the search method are the same as those used for `tf.keras.model.fit` in addition to the callback above."
      ]
    },
    {
      "cell_type": "code",
      "execution_count": null,
      "metadata": {
        "id": "dSBQcTHF9cKt"
      },
      "outputs": [],
      "source": [
        "tuner.search(train_images1, train_labels1, epochs=10, validation_data=(val_images, val_labels), callbacks=[stop_early])\n",
        "# tuner search"
      ]
    },
    {
      "cell_type": "code",
      "execution_count": null,
      "metadata": {
        "colab": {
          "base_uri": "https://localhost:8080/"
        },
        "id": "mVowTFdIqwV0",
        "outputId": "6b223fb9-097c-483c-e3ff-f668d100b2aa"
      },
      "outputs": [
        {
          "name": "stdout",
          "output_type": "stream",
          "text": [
            "\n",
            "The hyperparameter search is complete. The optimal number of units in the first densely-connected\n",
            "layer is 256 and the optimal optimizer\n",
            "is adam.\n",
            "\n"
          ]
        }
      ],
      "source": [
        "# Get the optimal hyperparameters\n",
        "# get the parameters\n",
        "best_hps=tuner.get_best_hyperparameters(num_trials=1)[0]\n",
        "\n",
        "print(f\"\"\"\n",
        "The hyperparameter search is complete. The optimal number of units in the first densely-connected\n",
        "layer is {best_hps.get('units')} and the optimal optimizer\n",
        "is {best_hps.get('optimizer')}.\n",
        "\"\"\")"
      ]
    },
    {
      "cell_type": "markdown",
      "metadata": {
        "id": "__qNUJaNw6EQ"
      },
      "source": [
        "## Fine Tune Learning Rate"
      ]
    },
    {
      "cell_type": "code",
      "execution_count": null,
      "metadata": {
        "id": "GVryCJkJw6EQ"
      },
      "outputs": [],
      "source": [
        "def model_builder2(hp):\n",
        "  # model builder2 function\n",
        "    # Tune the learning rate for the optimizer\n",
        "    # Choose an optimal value from 0.01, 0.001, or 0.0001\n",
        "    hp_learning_rate = hp.Choice('learning_rate', values=[1e-2, 1e-3, 1e-4])\n",
        "    model = models.Sequential()\n",
        "    model.add(layers.Conv2D(32, (3, 3), activation='relu', kernel_initializer='he_uniform', input_shape=(28, 28, 1)))\n",
        "    model.add(layers.MaxPooling2D((2, 2)))\n",
        "    model.add(layers.Conv2D(64, (3, 3), activation='relu', kernel_initializer='he_uniform'))\n",
        "    model.add(layers.Conv2D(64, (3, 3), activation='relu', kernel_initializer='he_uniform'))\n",
        "    model.add(layers.MaxPooling2D((2, 2)))\n",
        "    model.add(layers.Flatten())\n",
        "    model.add(layers.Dense(100, activation='relu', kernel_initializer='he_uniform'))\n",
        "    model.add(layers.Dense(10))\n",
        "    print(model.summary())\n",
        "    model.compile(keras.optimizers.Adam(learning_rate=hp_learning_rate),\n",
        "              loss=tf.keras.losses.CategoricalCrossentropy(from_logits=True),\n",
        "              metrics=['accuracy'])\n",
        "    return model"
      ]
    },
    {
      "cell_type": "code",
      "execution_count": null,
      "metadata": {
        "colab": {
          "base_uri": "https://localhost:8080/"
        },
        "id": "XkH5F1Skw6ER",
        "outputId": "9f5653f4-8e8f-4eb4-fead-e200e7bffa7e"
      },
      "outputs": [
        {
          "name": "stdout",
          "output_type": "stream",
          "text": [
            "Model: \"sequential_4\"\n",
            "_________________________________________________________________\n",
            " Layer (type)                Output Shape              Param #   \n",
            "=================================================================\n",
            " conv2d_9 (Conv2D)           (None, 26, 26, 32)        320       \n",
            "                                                                 \n",
            " max_pooling2d_5 (MaxPooling  (None, 13, 13, 32)       0         \n",
            " 2D)                                                             \n",
            "                                                                 \n",
            " conv2d_10 (Conv2D)          (None, 11, 11, 64)        18496     \n",
            "                                                                 \n",
            " conv2d_11 (Conv2D)          (None, 9, 9, 64)          36928     \n",
            "                                                                 \n",
            " max_pooling2d_6 (MaxPooling  (None, 4, 4, 64)         0         \n",
            " 2D)                                                             \n",
            "                                                                 \n",
            " flatten_4 (Flatten)         (None, 1024)              0         \n",
            "                                                                 \n",
            " dense_9 (Dense)             (None, 100)               102500    \n",
            "                                                                 \n",
            " dense_10 (Dense)            (None, 10)                1010      \n",
            "                                                                 \n",
            "=================================================================\n",
            "Total params: 159,254\n",
            "Trainable params: 159,254\n",
            "Non-trainable params: 0\n",
            "_________________________________________________________________\n",
            "None\n"
          ]
        }
      ],
      "source": [
        "#tuner for model builder2 \n",
        "tuner = kt.Hyperband(model_builder2,\n",
        "                     objective='val_accuracy',\n",
        "                     max_epochs=15,\n",
        "                     factor=3,\n",
        "                     directory='my_dir2',\n",
        "                     project_name='intro_to_kt2')"
      ]
    },
    {
      "cell_type": "markdown",
      "metadata": {
        "id": "eBzYZM8bw6ER"
      },
      "source": [
        "The Hyperband tuning algorithm uses adaptive resource allocation and early-stopping to quickly converge on a high-performing model. This is done using a sports championship style bracket. The algorithm trains a large number of models for a few epochs and carries forward only the top-performing half of models to the next round. Hyperband determines the number of models to train in a bracket by computing 1 + log<sub>`factor`</sub>(`max_epochs`) and rounding it up to the nearest integer."
      ]
    },
    {
      "cell_type": "markdown",
      "metadata": {
        "id": "o504lRDWw6ES"
      },
      "source": [
        "Create a callback to stop training early after reaching a certain value for the validation loss."
      ]
    },
    {
      "cell_type": "code",
      "execution_count": null,
      "metadata": {
        "id": "5wmzEtJ-w6ES"
      },
      "outputs": [],
      "source": [
        "stop_early = tf.keras.callbacks.EarlyStopping(monitor='val_loss', patience=4)\n",
        "# stop training if required"
      ]
    },
    {
      "cell_type": "markdown",
      "metadata": {
        "id": "KaWS_5wcw6ES"
      },
      "source": [
        "Run the hyperparameter search. The arguments for the search method are the same as those used for `tf.keras.model.fit` in addition to the callback above."
      ]
    },
    {
      "cell_type": "code",
      "execution_count": null,
      "metadata": {
        "id": "zvbdpZDQw6ET"
      },
      "outputs": [],
      "source": [
        "tuner.search(train_images1, train_labels1, epochs=10, validation_data=(val_images, val_labels), callbacks=[stop_early])\n",
        "# tuner search"
      ]
    },
    {
      "cell_type": "code",
      "execution_count": null,
      "metadata": {
        "colab": {
          "base_uri": "https://localhost:8080/"
        },
        "id": "xtEOMqcdw6ET",
        "outputId": "41c64032-eca7-4de5-be8f-62543e80a67e"
      },
      "outputs": [
        {
          "name": "stdout",
          "output_type": "stream",
          "text": [
            "\n",
            "The hyperparameter search is complete. The optimal learning rate is 0.001.\n",
            "\n"
          ]
        }
      ],
      "source": [
        "# Get the optimal hyperparameters\n",
        "best_hps=tuner.get_best_hyperparameters(num_trials=1)[0]\n",
        "\n",
        "print(f\"\"\"\n",
        "The hyperparameter search is complete. The optimal learning rate is {best_hps.get('learning_rate')}.\n",
        "\"\"\")"
      ]
    },
    {
      "cell_type": "code",
      "execution_count": null,
      "metadata": {
        "colab": {
          "base_uri": "https://localhost:8080/"
        },
        "id": "B7TwjNhiw6ET",
        "outputId": "bd67dd27-f4d9-43fd-c62a-d3800687b0d1"
      },
      "outputs": [
        {
          "name": "stdout",
          "output_type": "stream",
          "text": [
            "Model: \"sequential_5\"\n",
            "_________________________________________________________________\n",
            " Layer (type)                Output Shape              Param #   \n",
            "=================================================================\n",
            " conv2d_12 (Conv2D)          (None, 26, 26, 32)        320       \n",
            "                                                                 \n",
            " max_pooling2d_7 (MaxPooling  (None, 13, 13, 32)       0         \n",
            " 2D)                                                             \n",
            "                                                                 \n",
            " conv2d_13 (Conv2D)          (None, 11, 11, 64)        18496     \n",
            "                                                                 \n",
            " conv2d_14 (Conv2D)          (None, 9, 9, 64)          36928     \n",
            "                                                                 \n",
            " max_pooling2d_8 (MaxPooling  (None, 4, 4, 64)         0         \n",
            " 2D)                                                             \n",
            "                                                                 \n",
            " flatten_5 (Flatten)         (None, 1024)              0         \n",
            "                                                                 \n",
            " dense_11 (Dense)            (None, 100)               102500    \n",
            "                                                                 \n",
            " dense_12 (Dense)            (None, 10)                1010      \n",
            "                                                                 \n",
            "=================================================================\n",
            "Total params: 159,254\n",
            "Trainable params: 159,254\n",
            "Non-trainable params: 0\n",
            "_________________________________________________________________\n",
            "None\n"
          ]
        }
      ],
      "source": [
        "modelF = tuner.hypermodel.build(best_hps)"
      ]
    },
    {
      "cell_type": "code",
      "execution_count": null,
      "metadata": {
        "id": "pgYEPRuBw6EU"
      },
      "outputs": [],
      "source": [
        "modelF.save(\"bestModelF.h5\")"
      ]
    },
    {
      "cell_type": "markdown",
      "metadata": {
        "id": "3d2iJybsK7DN"
      },
      "source": [
        "# Train hyper-parameter tuned model via KFold"
      ]
    },
    {
      "cell_type": "code",
      "execution_count": null,
      "metadata": {
        "id": "DWUPxQqbqwP5"
      },
      "outputs": [],
      "source": [
        "def kfold_eval_model(data_img, data_label, n_folds=5):\n",
        "  # train via kFold\n",
        "    score_li, history_li = list(), list()\n",
        "    # prepare cross validation\n",
        "    kfold = KFold(n_folds, shuffle=True, random_state=1)\n",
        "    # enumerate splits\n",
        "    for train_idx, test_idx in kfold.split(data_img):\n",
        "        # define model\n",
        "        model = cnn_model_2()\n",
        "        # select rows for train and test\n",
        "        trainX, trainY, testX, testY = data_img[train_idx], data_label[train_idx], data_img[test_idx], data_label[test_idx]\n",
        "        # fit model\n",
        "        history = model.fit(trainX, trainY, epochs=10, batch_size=32, validation_data=(testX, testY), use_multiprocessing=True)\n",
        "        # evaluate model\n",
        "        _, acc = model.evaluate(testX, testY, verbose=0)\n",
        "        print('&gt; %.3f' % (acc * 100.0))\n",
        "        # stores scores\n",
        "        score_li.append(acc)\n",
        "        history_li.append(history)\n",
        "    return score_li, history_li\n"
      ]
    },
    {
      "cell_type": "code",
      "execution_count": null,
      "metadata": {
        "colab": {
          "background_save": true,
          "base_uri": "https://localhost:8080/"
        },
        "id": "2BJuD6RIqwMN",
        "outputId": "241356a4-ef68-4902-c2d1-abef0f080497"
      },
      "outputs": [
        {
          "name": "stdout",
          "output_type": "stream",
          "text": [
            "Model: \"sequential_6\"\n",
            "_________________________________________________________________\n",
            " Layer (type)                Output Shape              Param #   \n",
            "=================================================================\n",
            " conv2d_15 (Conv2D)          (None, 26, 26, 32)        320       \n",
            "                                                                 \n",
            " max_pooling2d_9 (MaxPooling  (None, 13, 13, 32)       0         \n",
            " 2D)                                                             \n",
            "                                                                 \n",
            " conv2d_16 (Conv2D)          (None, 11, 11, 64)        18496     \n",
            "                                                                 \n",
            " conv2d_17 (Conv2D)          (None, 9, 9, 64)          36928     \n",
            "                                                                 \n",
            " max_pooling2d_10 (MaxPoolin  (None, 4, 4, 64)         0         \n",
            " g2D)                                                            \n",
            "                                                                 \n",
            " flatten_6 (Flatten)         (None, 1024)              0         \n",
            "                                                                 \n",
            " dense_13 (Dense)            (None, 100)               102500    \n",
            "                                                                 \n",
            " dense_14 (Dense)            (None, 10)                1010      \n",
            "                                                                 \n",
            "=================================================================\n",
            "Total params: 159,254\n",
            "Trainable params: 159,254\n",
            "Non-trainable params: 0\n",
            "_________________________________________________________________\n",
            "None\n",
            "Epoch 1/10\n",
            "1500/1500 [==============================] - 85s 56ms/step - loss: 0.1232 - accuracy: 0.9609 - val_loss: 0.0724 - val_accuracy: 0.9775\n",
            "Epoch 2/10\n",
            "1500/1500 [==============================] - 80s 54ms/step - loss: 0.0447 - accuracy: 0.9862 - val_loss: 0.0457 - val_accuracy: 0.9868\n",
            "Epoch 3/10\n",
            "1500/1500 [==============================] - 81s 54ms/step - loss: 0.0297 - accuracy: 0.9903 - val_loss: 0.0434 - val_accuracy: 0.9883\n",
            "Epoch 4/10\n",
            "1500/1500 [==============================] - 82s 55ms/step - loss: 0.0242 - accuracy: 0.9924 - val_loss: 0.0617 - val_accuracy: 0.9833\n",
            "Epoch 5/10\n",
            "1500/1500 [==============================] - 77s 51ms/step - loss: 0.0171 - accuracy: 0.9944 - val_loss: 0.0403 - val_accuracy: 0.9884\n",
            "Epoch 6/10\n",
            "1500/1500 [==============================] - 79s 53ms/step - loss: 0.0146 - accuracy: 0.9953 - val_loss: 0.0704 - val_accuracy: 0.9826\n",
            "Epoch 7/10\n",
            "1500/1500 [==============================] - 79s 52ms/step - loss: 0.0122 - accuracy: 0.9959 - val_loss: 0.0485 - val_accuracy: 0.9889\n",
            "Epoch 8/10\n",
            "1500/1500 [==============================] - 77s 51ms/step - loss: 0.0096 - accuracy: 0.9971 - val_loss: 0.0616 - val_accuracy: 0.9866\n",
            "Epoch 9/10\n",
            "1500/1500 [==============================] - 87s 58ms/step - loss: 0.0079 - accuracy: 0.9974 - val_loss: 0.0491 - val_accuracy: 0.9899\n",
            "Epoch 10/10\n",
            "1500/1500 [==============================] - 80s 53ms/step - loss: 0.0077 - accuracy: 0.9974 - val_loss: 0.0672 - val_accuracy: 0.9862\n",
            "&gt; 98.625\n",
            "Model: \"sequential_7\"\n",
            "_________________________________________________________________\n",
            " Layer (type)                Output Shape              Param #   \n",
            "=================================================================\n",
            " conv2d_18 (Conv2D)          (None, 26, 26, 32)        320       \n",
            "                                                                 \n",
            " max_pooling2d_11 (MaxPoolin  (None, 13, 13, 32)       0         \n",
            " g2D)                                                            \n",
            "                                                                 \n",
            " conv2d_19 (Conv2D)          (None, 11, 11, 64)        18496     \n",
            "                                                                 \n",
            " conv2d_20 (Conv2D)          (None, 9, 9, 64)          36928     \n",
            "                                                                 \n",
            " max_pooling2d_12 (MaxPoolin  (None, 4, 4, 64)         0         \n",
            " g2D)                                                            \n",
            "                                                                 \n",
            " flatten_7 (Flatten)         (None, 1024)              0         \n",
            "                                                                 \n",
            " dense_15 (Dense)            (None, 100)               102500    \n",
            "                                                                 \n",
            " dense_16 (Dense)            (None, 10)                1010      \n",
            "                                                                 \n",
            "=================================================================\n",
            "Total params: 159,254\n",
            "Trainable params: 159,254\n",
            "Non-trainable params: 0\n",
            "_________________________________________________________________\n",
            "None\n",
            "Epoch 1/10\n",
            "1500/1500 [==============================] - 78s 51ms/step - loss: 0.1358 - accuracy: 0.9574 - val_loss: 0.0480 - val_accuracy: 0.9847\n",
            "Epoch 2/10\n",
            "1500/1500 [==============================] - 78s 52ms/step - loss: 0.0460 - accuracy: 0.9857 - val_loss: 0.0527 - val_accuracy: 0.9838\n",
            "Epoch 3/10\n",
            "1500/1500 [==============================] - 81s 54ms/step - loss: 0.0314 - accuracy: 0.9899 - val_loss: 0.0402 - val_accuracy: 0.9868\n",
            "Epoch 4/10\n",
            "1500/1500 [==============================] - 79s 53ms/step - loss: 0.0237 - accuracy: 0.9924 - val_loss: 0.0403 - val_accuracy: 0.9883\n",
            "Epoch 5/10\n",
            "1500/1500 [==============================] - 81s 54ms/step - loss: 0.0174 - accuracy: 0.9946 - val_loss: 0.0445 - val_accuracy: 0.9875\n",
            "Epoch 6/10\n",
            "1500/1500 [==============================] - 87s 58ms/step - loss: 0.0138 - accuracy: 0.9959 - val_loss: 0.0452 - val_accuracy: 0.9878\n",
            "Epoch 7/10\n",
            "1500/1500 [==============================] - 82s 55ms/step - loss: 0.0123 - accuracy: 0.9962 - val_loss: 0.0581 - val_accuracy: 0.9839\n",
            "Epoch 8/10\n",
            "1500/1500 [==============================] - 79s 53ms/step - loss: 0.0098 - accuracy: 0.9969 - val_loss: 0.0487 - val_accuracy: 0.9898\n",
            "Epoch 9/10\n",
            "1500/1500 [==============================] - 80s 53ms/step - loss: 0.0092 - accuracy: 0.9969 - val_loss: 0.0475 - val_accuracy: 0.9893\n",
            "Epoch 10/10\n",
            "1500/1500 [==============================] - 79s 53ms/step - loss: 0.0079 - accuracy: 0.9970 - val_loss: 0.0596 - val_accuracy: 0.9883\n",
            "&gt; 98.833\n",
            "Model: \"sequential_8\"\n",
            "_________________________________________________________________\n",
            " Layer (type)                Output Shape              Param #   \n",
            "=================================================================\n",
            " conv2d_21 (Conv2D)          (None, 26, 26, 32)        320       \n",
            "                                                                 \n",
            " max_pooling2d_13 (MaxPoolin  (None, 13, 13, 32)       0         \n",
            " g2D)                                                            \n",
            "                                                                 \n",
            " conv2d_22 (Conv2D)          (None, 11, 11, 64)        18496     \n",
            "                                                                 \n",
            " conv2d_23 (Conv2D)          (None, 9, 9, 64)          36928     \n",
            "                                                                 \n",
            " max_pooling2d_14 (MaxPoolin  (None, 4, 4, 64)         0         \n",
            " g2D)                                                            \n",
            "                                                                 \n",
            " flatten_8 (Flatten)         (None, 1024)              0         \n",
            "                                                                 \n",
            " dense_17 (Dense)            (None, 100)               102500    \n",
            "                                                                 \n",
            " dense_18 (Dense)            (None, 10)                1010      \n",
            "                                                                 \n",
            "=================================================================\n",
            "Total params: 159,254\n",
            "Trainable params: 159,254\n",
            "Non-trainable params: 0\n",
            "_________________________________________________________________\n",
            "None\n",
            "Epoch 1/10\n",
            "1500/1500 [==============================] - 86s 57ms/step - loss: 0.1277 - accuracy: 0.9608 - val_loss: 0.0645 - val_accuracy: 0.9798\n",
            "Epoch 2/10\n",
            "1500/1500 [==============================] - 85s 57ms/step - loss: 0.0437 - accuracy: 0.9862 - val_loss: 0.0412 - val_accuracy: 0.9873\n",
            "Epoch 3/10\n",
            "1500/1500 [==============================] - 83s 55ms/step - loss: 0.0305 - accuracy: 0.9904 - val_loss: 0.0468 - val_accuracy: 0.9861\n",
            "Epoch 4/10\n",
            "1500/1500 [==============================] - 84s 56ms/step - loss: 0.0221 - accuracy: 0.9929 - val_loss: 0.0478 - val_accuracy: 0.9877\n",
            "Epoch 5/10\n",
            "1500/1500 [==============================] - 85s 56ms/step - loss: 0.0184 - accuracy: 0.9940 - val_loss: 0.0542 - val_accuracy: 0.9869\n",
            "Epoch 6/10\n",
            "1500/1500 [==============================] - 83s 55ms/step - loss: 0.0139 - accuracy: 0.9954 - val_loss: 0.0481 - val_accuracy: 0.9873\n",
            "Epoch 7/10\n",
            "1500/1500 [==============================] - 84s 56ms/step - loss: 0.0111 - accuracy: 0.9964 - val_loss: 0.0446 - val_accuracy: 0.9905\n",
            "Epoch 8/10\n",
            "1500/1500 [==============================] - 84s 56ms/step - loss: 0.0093 - accuracy: 0.9971 - val_loss: 0.0481 - val_accuracy: 0.9891\n",
            "Epoch 9/10\n",
            "1500/1500 [==============================] - 86s 57ms/step - loss: 0.0111 - accuracy: 0.9961 - val_loss: 0.0504 - val_accuracy: 0.9885\n",
            "Epoch 10/10\n",
            "1500/1500 [==============================] - 88s 59ms/step - loss: 0.0080 - accuracy: 0.9972 - val_loss: 0.0570 - val_accuracy: 0.9888\n",
            "&gt; 98.883\n",
            "Model: \"sequential_9\"\n",
            "_________________________________________________________________\n",
            " Layer (type)                Output Shape              Param #   \n",
            "=================================================================\n",
            " conv2d_24 (Conv2D)          (None, 26, 26, 32)        320       \n",
            "                                                                 \n",
            " max_pooling2d_15 (MaxPoolin  (None, 13, 13, 32)       0         \n",
            " g2D)                                                            \n",
            "                                                                 \n",
            " conv2d_25 (Conv2D)          (None, 11, 11, 64)        18496     \n",
            "                                                                 \n",
            " conv2d_26 (Conv2D)          (None, 9, 9, 64)          36928     \n",
            "                                                                 \n",
            " max_pooling2d_16 (MaxPoolin  (None, 4, 4, 64)         0         \n",
            " g2D)                                                            \n",
            "                                                                 \n",
            " flatten_9 (Flatten)         (None, 1024)              0         \n",
            "                                                                 \n",
            " dense_19 (Dense)            (None, 100)               102500    \n",
            "                                                                 \n",
            " dense_20 (Dense)            (None, 10)                1010      \n",
            "                                                                 \n",
            "=================================================================\n",
            "Total params: 159,254\n",
            "Trainable params: 159,254\n",
            "Non-trainable params: 0\n",
            "_________________________________________________________________\n",
            "None\n",
            "Epoch 1/10\n",
            "1500/1500 [==============================] - 89s 59ms/step - loss: 0.1257 - accuracy: 0.9608 - val_loss: 0.0435 - val_accuracy: 0.9867\n",
            "Epoch 2/10\n",
            "1500/1500 [==============================] - 85s 56ms/step - loss: 0.0442 - accuracy: 0.9864 - val_loss: 0.0349 - val_accuracy: 0.9892\n",
            "Epoch 3/10\n",
            "1500/1500 [==============================] - 85s 57ms/step - loss: 0.0292 - accuracy: 0.9905 - val_loss: 0.0393 - val_accuracy: 0.9884\n",
            "Epoch 4/10\n",
            "1500/1500 [==============================] - 84s 56ms/step - loss: 0.0226 - accuracy: 0.9925 - val_loss: 0.0337 - val_accuracy: 0.9897\n",
            "Epoch 5/10\n",
            "1500/1500 [==============================] - 83s 55ms/step - loss: 0.0168 - accuracy: 0.9946 - val_loss: 0.0368 - val_accuracy: 0.9908\n",
            "Epoch 6/10\n",
            "1500/1500 [==============================] - 86s 57ms/step - loss: 0.0143 - accuracy: 0.9956 - val_loss: 0.0349 - val_accuracy: 0.9911\n",
            "Epoch 7/10\n",
            "1500/1500 [==============================] - 85s 57ms/step - loss: 0.0110 - accuracy: 0.9964 - val_loss: 0.0453 - val_accuracy: 0.9896\n",
            "Epoch 8/10\n",
            "1500/1500 [==============================] - 82s 54ms/step - loss: 0.0101 - accuracy: 0.9966 - val_loss: 0.0344 - val_accuracy: 0.9922\n",
            "Epoch 9/10\n",
            "1500/1500 [==============================] - 82s 55ms/step - loss: 0.0093 - accuracy: 0.9972 - val_loss: 0.0412 - val_accuracy: 0.9903\n",
            "Epoch 10/10\n",
            "1500/1500 [==============================] - 84s 56ms/step - loss: 0.0061 - accuracy: 0.9980 - val_loss: 0.0538 - val_accuracy: 0.9893\n",
            "&gt; 98.933\n",
            "Model: \"sequential_10\"\n",
            "_________________________________________________________________\n",
            " Layer (type)                Output Shape              Param #   \n",
            "=================================================================\n",
            " conv2d_27 (Conv2D)          (None, 26, 26, 32)        320       \n",
            "                                                                 \n",
            " max_pooling2d_17 (MaxPoolin  (None, 13, 13, 32)       0         \n",
            " g2D)                                                            \n",
            "                                                                 \n",
            " conv2d_28 (Conv2D)          (None, 11, 11, 64)        18496     \n",
            "                                                                 \n",
            " conv2d_29 (Conv2D)          (None, 9, 9, 64)          36928     \n",
            "                                                                 \n",
            " max_pooling2d_18 (MaxPoolin  (None, 4, 4, 64)         0         \n",
            " g2D)                                                            \n",
            "                                                                 \n",
            " flatten_10 (Flatten)        (None, 1024)              0         \n",
            "                                                                 \n",
            " dense_21 (Dense)            (None, 100)               102500    \n",
            "                                                                 \n",
            " dense_22 (Dense)            (None, 10)                1010      \n",
            "                                                                 \n",
            "=================================================================\n",
            "Total params: 159,254\n",
            "Trainable params: 159,254\n",
            "Non-trainable params: 0\n",
            "_________________________________________________________________\n",
            "None\n",
            "Epoch 1/10\n",
            "1500/1500 [==============================] - 85s 57ms/step - loss: 0.1276 - accuracy: 0.9605 - val_loss: 0.0672 - val_accuracy: 0.9800\n",
            "Epoch 2/10\n",
            "1500/1500 [==============================] - 85s 57ms/step - loss: 0.0437 - accuracy: 0.9862 - val_loss: 0.0422 - val_accuracy: 0.9870\n",
            "Epoch 3/10\n",
            "1500/1500 [==============================] - 85s 57ms/step - loss: 0.0308 - accuracy: 0.9899 - val_loss: 0.0480 - val_accuracy: 0.9857\n",
            "Epoch 4/10\n",
            "1500/1500 [==============================] - 83s 55ms/step - loss: 0.0220 - accuracy: 0.9933 - val_loss: 0.0330 - val_accuracy: 0.9908\n",
            "Epoch 5/10\n",
            "1500/1500 [==============================] - 85s 56ms/step - loss: 0.0179 - accuracy: 0.9942 - val_loss: 0.0389 - val_accuracy: 0.9887\n",
            "Epoch 6/10\n",
            "1500/1500 [==============================] - 85s 56ms/step - loss: 0.0136 - accuracy: 0.9954 - val_loss: 0.0393 - val_accuracy: 0.9886\n",
            "Epoch 7/10\n",
            "1500/1500 [==============================] - 85s 56ms/step - loss: 0.0115 - accuracy: 0.9964 - val_loss: 0.0487 - val_accuracy: 0.9892\n",
            "Epoch 8/10\n",
            "1500/1500 [==============================] - 87s 58ms/step - loss: 0.0108 - accuracy: 0.9964 - val_loss: 0.0411 - val_accuracy: 0.9906\n",
            "Epoch 9/10\n",
            "1500/1500 [==============================] - 90s 60ms/step - loss: 0.0097 - accuracy: 0.9966 - val_loss: 0.0454 - val_accuracy: 0.9886\n",
            "Epoch 10/10\n",
            "1500/1500 [==============================] - 86s 57ms/step - loss: 0.0095 - accuracy: 0.9967 - val_loss: 0.0444 - val_accuracy: 0.9900\n",
            "&gt; 99.000\n"
          ]
        }
      ],
      "source": [
        "scores, histories = kfold_eval_model(train_images, train_labels)\n",
        "# variables"
      ]
    },
    {
      "cell_type": "code",
      "execution_count": null,
      "metadata": {
        "colab": {
          "background_save": true
        },
        "id": "kU2V4zBTqwI2"
      },
      "outputs": [],
      "source": [
        "from numpy import mean\n",
        "from numpy import std\n",
        "from matplotlib import pyplot\n",
        "# import libs\n",
        "\n",
        "def learning_plot(histories):\n",
        "  # learning the plot values\n",
        "    for i in range(len(histories)):\n",
        "        # plot loss\n",
        "        # pyplot.subplot(2, 1, 1)\n",
        "        pyplot.title('K-Fold Loss')\n",
        "        pyplot.xlabel('Epochs')\n",
        "        pyplot.ylabel('Loss')\n",
        "        pyplot.plot(histories[i].history['loss'], color='red', label='train')\n",
        "        pyplot.plot(histories[i].history['val_loss'], color='green', label='test')\n",
        "        pyplot.legend([\"train\", \"test\"], loc =\"lower right\")\n",
        "        # plot accuracy\n",
        "        # pyplot.subplot(2, 1, 2)\n",
        "#         pyplot.title('K-Fold Classification Accuracy')\n",
        "#         pyplot.xlabel('Epochs')\n",
        "#         pyplot.ylabel('Accuracy')\n",
        "        \n",
        "#         pyplot.plot(histories[i].history['accuracy'], color='red', label='train')\n",
        "#         pyplot.plot(histories[i].history['val_accuracy'], color='green', label='test')\n",
        "#         pyplot.legend([\"train\", \"test\"], loc =\"lower right\")\n",
        "    pyplot.show()\n",
        "\n",
        "\n",
        "def kfold_performance(scores):\n",
        "    print('Accuracy: mean=%.3f std=%.3f, n=%d' % (mean(scores)*100, std(scores)*100, len(scores)))\n",
        "    # box and whisker plots of results\n",
        "    pyplot.boxplot(scores)\n",
        "    pyplot.show()\n"
      ]
    },
    {
      "cell_type": "code",
      "execution_count": null,
      "metadata": {
        "colab": {
          "background_save": true
        },
        "id": "kuiIxURKqwFx",
        "outputId": "f6f3eb7c-4f7d-439f-e4d2-7ff60676159b"
      },
      "outputs": [
        {
          "data": {
            "image/png": "[encoded data removed]",
            "text/plain": [
              "<Figure size 432x288 with 1 Axes>"
            ]
          },
          "metadata": {},
          "output_type": "display_data"
        }
      ],
      "source": [
        "# calling the function\n",
        "learning_plot(histories)"
      ]
    },
    {
      "cell_type": "code",
      "execution_count": null,
      "metadata": {
        "colab": {
          "background_save": true
        },
        "id": "hE1BTlt_w6EW",
        "outputId": "ad1436a6-1440-4c59-cf13-59f891cf3cd5"
      },
      "outputs": [
        {
          "name": "stdout",
          "output_type": "stream",
          "text": [
            "Accuracy: mean=98.855 std=0.128, n=5\n"
          ]
        },
        {
          "data": {
            "image/png": "[encoded data removed]",
            "text/plain": [
              "<Figure size 432x288 with 1 Axes>"
            ]
          },
          "metadata": {},
          "output_type": "display_data"
        }
      ],
      "source": [
        "kfold_performance(scores)\n",
        "# calling function\" kfold_performance()"
      ]
    }
  ],
  "metadata": {
    "colab": {
      "collapsed_sections": [],
      "name": "CNN_Report.ipynb",
      "provenance": []
    },
    "kernelspec": {
      "display_name": "Python 3",
      "language": "python",
      "name": "python3"
    },
    "language_info": {
      "codemirror_mode": {
        "name": "ipython",
        "version": 3
      },
      "file_extension": ".py",
      "mimetype": "text/x-python",
      "name": "python",
      "nbconvert_exporter": "python",
      "pygments_lexer": "ipython3",
      "version": "3.6.5"
    }
  },
  "nbformat": 4,
  "nbformat_minor": 0
}